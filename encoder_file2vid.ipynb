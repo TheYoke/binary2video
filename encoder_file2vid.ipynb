{
 "cells": [
  {
   "cell_type": "markdown",
   "metadata": {},
   "source": [
    "This notebook encodes a video with each frame contains blocks of black and white that represent binary data."
   ]
  },
  {
   "cell_type": "code",
   "execution_count": 1,
   "metadata": {},
   "outputs": [],
   "source": [
    "in_path = 'input'  # path to an arbitrary file you want to encode.\n",
    "out_path = 'output'  # path to the encoded .mp4 video file.\n",
    "\n",
    "W, H = 1920, 1080  # width and height of each frame.\n",
    "S = 4  # squared size of each block.\n",
    "\n",
    "assert W % S == 0 and H % S == 0, 'width and height need to be divisible by squared size'\n",
    "assert W % 4 == 0, 'better to have 4-byte alignment to avoid generating padding'\n",
    "\n",
    "BPF = W*H//(S*S*8) # number of bytes per frame"
   ]
  },
  {
   "cell_type": "code",
   "execution_count": 3,
   "metadata": {},
   "outputs": [],
   "source": [
    "from PIL import Image\n",
    "import numpy as np\n",
    "\n",
    "import subprocess\n",
    "import shlex\n",
    "import itertools\n",
    "\n",
    "def to_binary(b):\n",
    "    a = np.frombuffer(b, 'uint8')\n",
    "    return np.vstack([a >> 7-i & 1 for i in range(8)]).T.reshape(-1)"
   ]
  },
  {
   "cell_type": "code",
   "execution_count": 6,
   "metadata": {
    "tags": []
   },
   "outputs": [
    {
     "name": "stdout",
     "output_type": "stream",
     "text": [
      "Frames Encoded: 615\n",
      "DONE!\n"
     ]
    }
   ],
   "source": [
    "args = shlex.split(f'ffmpeg -framerate 30 -f image2pipe -i - -c:v libx264 -r 30 -pix_fmt yuv420p \"{out_path}\"')\n",
    "ffmpeg = subprocess.Popen(args, stdin=subprocess.PIPE, stdout=subprocess.DEVNULL, stderr=subprocess.DEVNULL).stdin\n",
    "\n",
    "try:\n",
    "    with open(in_path, 'rb') as f:\n",
    "        for count in itertools.count(1):\n",
    "            data = f.read(BPF)\n",
    "            if not data:\n",
    "                break\n",
    "\n",
    "            if len(data) != BPF:\n",
    "                data += bytes(BPF - len(data))\n",
    "\n",
    "            x = (to_binary(data) * 255).reshape(H // S, W // S)\n",
    "            im = Image.fromarray(x).resize((W, H), resample=0)\n",
    "            im.save(ffmpeg, 'bmp')\n",
    "            \n",
    "            print(f'Frames Encoded: {count}', end='\\r')\n",
    "finally:\n",
    "    ffmpeg.close()\n",
    "\n",
    "print('\\nDONE!')"
   ]
  },
  {
   "cell_type": "code",
   "execution_count": null,
   "metadata": {},
   "outputs": [],
   "source": []
  }
 ],
 "metadata": {
  "kernelspec": {
   "display_name": "Python 3",
   "language": "python",
   "name": "python3"
  },
  "language_info": {
   "codemirror_mode": {
    "name": "ipython",
    "version": 3
   },
   "file_extension": ".py",
   "mimetype": "text/x-python",
   "name": "python",
   "nbconvert_exporter": "python",
   "pygments_lexer": "ipython3",
   "version": "3.8.6"
  }
 },
 "nbformat": 4,
 "nbformat_minor": 4
}

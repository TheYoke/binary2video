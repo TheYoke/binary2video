{
 "cells": [
  {
   "cell_type": "markdown",
   "metadata": {},
   "source": [
    "This notebook reverses the process of the encoder."
   ]
  },
  {
   "cell_type": "code",
   "execution_count": 1,
   "metadata": {},
   "outputs": [],
   "source": [
    "in_path = 'input.mp4'  # path to the encoded .mp4 video file.\n",
    "out_path = 'output'  # path to the output file decoded from the video.\n",
    "\n",
    "W, H = 1920, 1080  # width and height of each frame.\n",
    "S = 4  # squared size of each block.\n",
    "\n",
    "assert W % S == 0 and H % S == 0, 'width and height need to be divisible by squared size'\n",
    "assert W % 4 == 0, 'better to have 4-byte alignment to avoid generating padding'\n",
    "\n",
    "BPF = W*H//(S*S*8) # number of bytes per frame"
   ]
  },
  {
   "cell_type": "code",
   "execution_count": 2,
   "metadata": {},
   "outputs": [],
   "source": [
    "from PIL import Image\n",
    "import numpy as np\n",
    "\n",
    "import subprocess\n",
    "import shlex\n",
    "import itertools\n",
    "import io"
   ]
  },
  {
   "cell_type": "code",
   "execution_count": 3,
   "metadata": {},
   "outputs": [],
   "source": [
    "def from_binary(a):\n",
    "    a = a.reshape(-1, 8).T\n",
    "    return bytes(np.sum([a[i] << 7-i for i in range(8)], 0, 'uint8'))\n",
    "\n",
    "def extract_im(im):\n",
    "    # inputs PIL.Image, outputs bytes\n",
    "    a = np.asarray(im.resize((W // S, H // S), resample=Image.BOX).convert('L'))\n",
    "    return from_binary(a >= 128)"
   ]
  },
  {
   "cell_type": "code",
   "execution_count": 5,
   "metadata": {},
   "outputs": [
    {
     "name": "stdout",
     "output_type": "stream",
     "text": [
      "Frames Decoded: 615\r"
     ]
    }
   ],
   "source": [
    "args = shlex.split(f'ffmpeg -i \"{in_path}\" -vf fps=30 -c:v bmp -f image2pipe -')\n",
    "ffmpeg = subprocess.Popen(args, stdout=subprocess.PIPE, stderr=subprocess.DEVNULL).stdout\n",
    "out_fp = open(out_path, 'wb')\n",
    "\n",
    "try:\n",
    "    for count in itertools.count(1):\n",
    "        head = ffmpeg.read(6)\n",
    "        if not head:\n",
    "            break\n",
    "            \n",
    "        size = int.from_bytes(head[2:6], 'little')\n",
    "        bmp = head + ffmpeg.read(size - 6)\n",
    "        \n",
    "        data = extract_im(Image.open(io.BytesIO(bmp)))\n",
    "        out_fp.write(data)\n",
    "        \n",
    "        print(f'Frames Decoded: {count}', end='\\r')\n",
    "    \n",
    "finally:\n",
    "    ffmpeg.close()\n",
    "    out_fp.close()"
   ]
  },
  {
   "cell_type": "code",
   "execution_count": null,
   "metadata": {},
   "outputs": [],
   "source": []
  }
 ],
 "metadata": {
  "kernelspec": {
   "display_name": "Python 3",
   "language": "python",
   "name": "python3"
  },
  "language_info": {
   "codemirror_mode": {
    "name": "ipython",
    "version": 3
   },
   "file_extension": ".py",
   "mimetype": "text/x-python",
   "name": "python",
   "nbconvert_exporter": "python",
   "pygments_lexer": "ipython3",
   "version": "3.8.6"
  }
 },
 "nbformat": 4,
 "nbformat_minor": 4
}
